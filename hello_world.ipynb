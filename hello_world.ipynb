{
 "cells": [
  {
   "cell_type": "code",
   "execution_count": 2,
   "metadata": {},
   "outputs": [
    {
     "name": "stdout",
     "output_type": "stream",
     "text": [
      "OH MY GOSH IT WORKED\n"
     ]
    }
   ],
   "source": [
    "print(\"OH MY GOSH IT WORKED\")"
   ]
  }
 ],
 "metadata": {
  "kernelspec": {
   "display_name": "Python 3.7.6 64-bit",
   "language": "python",
   "name": "python3"
  },
  "language_info": {
   "codemirror_mode": {
    "name": "ipython",
    "version": 3
   },
   "file_extension": ".py",
   "mimetype": "text/x-python",
   "name": "python",
   "nbconvert_exporter": "python",
   "pygments_lexer": "ipython3",
   "version": "3.7.6"
  },
  "orig_nbformat": 4,
  "vscode": {
   "interpreter": {
    "hash": "df9a18be808e588d487c38d3f3e8ec685bd0e8cad3f7cb7ebe63d95a7f7d79f3"
   }
  }
 },
 "nbformat": 4,
 "nbformat_minor": 2
}
