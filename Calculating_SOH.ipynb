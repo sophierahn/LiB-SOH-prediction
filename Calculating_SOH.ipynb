{
 "cells": [
  {
   "cell_type": "markdown",
   "metadata": {},
   "source": [
    "0.0 Import Packages"
   ]
  },
  {
   "cell_type": "code",
   "execution_count": 65,
   "metadata": {},
   "outputs": [
    {
     "ename": "ModuleNotFoundError",
     "evalue": "No module named 'tensorflow.python'",
     "output_type": "error",
     "traceback": [
      "\u001b[1;31m---------------------------------------------------------------------------\u001b[0m",
      "\u001b[1;31mModuleNotFoundError\u001b[0m                       Traceback (most recent call last)",
      "Cell \u001b[1;32mIn [65], line 9\u001b[0m\n\u001b[0;32m      7\u001b[0m \u001b[39mimport\u001b[39;00m \u001b[39mseaborn\u001b[39;00m \u001b[39mas\u001b[39;00m \u001b[39msns\u001b[39;00m\n\u001b[0;32m      8\u001b[0m \u001b[39mimport\u001b[39;00m \u001b[39mfnmatch\u001b[39;00m\n\u001b[1;32m----> 9\u001b[0m \u001b[39mimport\u001b[39;00m \u001b[39mtensorflow\u001b[39;00m \u001b[39mas\u001b[39;00m \u001b[39mtf\u001b[39;00m\n\u001b[0;32m     10\u001b[0m \u001b[39mfrom\u001b[39;00m \u001b[39mtensorflow\u001b[39;00m \u001b[39mimport\u001b[39;00m keras\n\u001b[0;32m     11\u001b[0m \u001b[39mfrom\u001b[39;00m \u001b[39mkeras\u001b[39;00m \u001b[39mimport\u001b[39;00m layers, datasets, models, optimizers\n",
      "File \u001b[1;32m~\\AppData\\Local\\Packages\\PythonSoftwareFoundation.Python.3.10_qbz5n2kfra8p0\\LocalCache\\local-packages\\Python310\\site-packages\\tensorflow\\__init__.py:37\u001b[0m\n\u001b[0;32m     34\u001b[0m \u001b[39mimport\u001b[39;00m \u001b[39msys\u001b[39;00m \u001b[39mas\u001b[39;00m \u001b[39m_sys\u001b[39;00m\n\u001b[0;32m     35\u001b[0m \u001b[39mimport\u001b[39;00m \u001b[39mtyping\u001b[39;00m \u001b[39mas\u001b[39;00m \u001b[39m_typing\u001b[39;00m\n\u001b[1;32m---> 37\u001b[0m \u001b[39mfrom\u001b[39;00m \u001b[39mtensorflow\u001b[39;00m\u001b[39m.\u001b[39;00m\u001b[39mpython\u001b[39;00m\u001b[39m.\u001b[39;00m\u001b[39mtools\u001b[39;00m \u001b[39mimport\u001b[39;00m module_util \u001b[39mas\u001b[39;00m _module_util\n\u001b[0;32m     38\u001b[0m \u001b[39mfrom\u001b[39;00m \u001b[39mtensorflow\u001b[39;00m\u001b[39m.\u001b[39;00m\u001b[39mpython\u001b[39;00m\u001b[39m.\u001b[39;00m\u001b[39mutil\u001b[39;00m\u001b[39m.\u001b[39;00m\u001b[39mlazy_loader\u001b[39;00m \u001b[39mimport\u001b[39;00m LazyLoader \u001b[39mas\u001b[39;00m _LazyLoader\n\u001b[0;32m     40\u001b[0m \u001b[39m# Make sure code inside the TensorFlow codebase can use tf2.enabled() at import.\u001b[39;00m\n",
      "\u001b[1;31mModuleNotFoundError\u001b[0m: No module named 'tensorflow.python'"
     ]
    }
   ],
   "source": [
    "import numpy as np\n",
    "import pandas as pd\n",
    "import matplotlib.pyplot as plt\n",
    "import torch as T\n",
    "import os\n",
    "import glob\n",
    "import seaborn as sns\n",
    "import fnmatch\n"
   ]
  },
  {
   "cell_type": "markdown",
   "metadata": {},
   "source": [
    "1.0 Load in Data"
   ]
  },
  {
   "cell_type": "code",
   "execution_count": 10,
   "metadata": {},
   "outputs": [
    {
     "data": {
      "text/plain": [
       "(178,)"
      ]
     },
     "execution_count": 10,
     "metadata": {},
     "output_type": "execute_result"
    }
   ],
   "source": [
    "addition.shape"
   ]
  },
  {
   "cell_type": "code",
   "execution_count": 46,
   "metadata": {},
   "outputs": [
    {
     "data": {
      "text/html": [
       "<div>\n",
       "<style scoped>\n",
       "    .dataframe tbody tr th:only-of-type {\n",
       "        vertical-align: middle;\n",
       "    }\n",
       "\n",
       "    .dataframe tbody tr th {\n",
       "        vertical-align: top;\n",
       "    }\n",
       "\n",
       "    .dataframe thead th {\n",
       "        text-align: right;\n",
       "    }\n",
       "</style>\n",
       "<table border=\"1\" class=\"dataframe\">\n",
       "  <thead>\n",
       "    <tr style=\"text-align: right;\">\n",
       "      <th></th>\n",
       "      <th>Voltages</th>\n",
       "      <th>Currents</th>\n",
       "      <th>Temperatures</th>\n",
       "      <th>Charge Currents</th>\n",
       "      <th>Charge Voltages</th>\n",
       "      <th>Time step</th>\n",
       "      <th>Capacity</th>\n",
       "      <th>SOH</th>\n",
       "    </tr>\n",
       "  </thead>\n",
       "  <tbody>\n",
       "    <tr>\n",
       "      <th>0</th>\n",
       "      <td>4.189773</td>\n",
       "      <td>0.000021</td>\n",
       "      <td>24.697752</td>\n",
       "      <td>-0.0006</td>\n",
       "      <td>0.000</td>\n",
       "      <td>0.000</td>\n",
       "      <td>1.846327</td>\n",
       "      <td>0.923164</td>\n",
       "    </tr>\n",
       "    <tr>\n",
       "      <th>1</th>\n",
       "      <td>4.188881</td>\n",
       "      <td>-0.000879</td>\n",
       "      <td>24.685948</td>\n",
       "      <td>-0.0006</td>\n",
       "      <td>4.204</td>\n",
       "      <td>16.672</td>\n",
       "      <td>1.846327</td>\n",
       "      <td>0.923164</td>\n",
       "    </tr>\n",
       "    <tr>\n",
       "      <th>2</th>\n",
       "      <td>3.979157</td>\n",
       "      <td>-2.014654</td>\n",
       "      <td>24.738132</td>\n",
       "      <td>-1.9984</td>\n",
       "      <td>3.056</td>\n",
       "      <td>35.703</td>\n",
       "      <td>1.846327</td>\n",
       "      <td>0.923164</td>\n",
       "    </tr>\n",
       "    <tr>\n",
       "      <th>3</th>\n",
       "      <td>3.956924</td>\n",
       "      <td>-2.013703</td>\n",
       "      <td>24.897071</td>\n",
       "      <td>-1.9982</td>\n",
       "      <td>3.024</td>\n",
       "      <td>53.828</td>\n",
       "      <td>1.846327</td>\n",
       "      <td>0.923164</td>\n",
       "    </tr>\n",
       "    <tr>\n",
       "      <th>4</th>\n",
       "      <td>3.940054</td>\n",
       "      <td>-2.012797</td>\n",
       "      <td>25.084750</td>\n",
       "      <td>-1.9984</td>\n",
       "      <td>3.003</td>\n",
       "      <td>71.891</td>\n",
       "      <td>1.846327</td>\n",
       "      <td>0.923164</td>\n",
       "    </tr>\n",
       "    <tr>\n",
       "      <th>...</th>\n",
       "      <td>...</td>\n",
       "      <td>...</td>\n",
       "      <td>...</td>\n",
       "      <td>...</td>\n",
       "      <td>...</td>\n",
       "      <td>...</td>\n",
       "      <td>...</td>\n",
       "      <td>...</td>\n",
       "    </tr>\n",
       "    <tr>\n",
       "      <th>172</th>\n",
       "      <td>3.127951</td>\n",
       "      <td>-2.011634</td>\n",
       "      <td>37.886988</td>\n",
       "      <td>-1.9982</td>\n",
       "      <td>2.221</td>\n",
       "      <td>3210.703</td>\n",
       "      <td>1.846327</td>\n",
       "      <td>0.923164</td>\n",
       "    </tr>\n",
       "    <tr>\n",
       "      <th>173</th>\n",
       "      <td>3.083314</td>\n",
       "      <td>-2.010339</td>\n",
       "      <td>38.020076</td>\n",
       "      <td>-1.9982</td>\n",
       "      <td>2.180</td>\n",
       "      <td>3230.375</td>\n",
       "      <td>1.846327</td>\n",
       "      <td>0.923164</td>\n",
       "    </tr>\n",
       "    <tr>\n",
       "      <th>174</th>\n",
       "      <td>3.030431</td>\n",
       "      <td>-2.011630</td>\n",
       "      <td>38.179273</td>\n",
       "      <td>-1.9982</td>\n",
       "      <td>2.133</td>\n",
       "      <td>3250.032</td>\n",
       "      <td>1.846327</td>\n",
       "      <td>0.923164</td>\n",
       "    </tr>\n",
       "    <tr>\n",
       "      <th>175</th>\n",
       "      <td>2.965202</td>\n",
       "      <td>-2.012772</td>\n",
       "      <td>38.345628</td>\n",
       "      <td>-1.9982</td>\n",
       "      <td>2.075</td>\n",
       "      <td>3269.688</td>\n",
       "      <td>1.846327</td>\n",
       "      <td>0.923164</td>\n",
       "    </tr>\n",
       "    <tr>\n",
       "      <th>176</th>\n",
       "      <td>2.878291</td>\n",
       "      <td>-2.013967</td>\n",
       "      <td>38.523283</td>\n",
       "      <td>-1.9982</td>\n",
       "      <td>2.003</td>\n",
       "      <td>3289.532</td>\n",
       "      <td>1.846327</td>\n",
       "      <td>0.923164</td>\n",
       "    </tr>\n",
       "  </tbody>\n",
       "</table>\n",
       "<p>177 rows × 8 columns</p>\n",
       "</div>"
      ],
      "text/plain": [
       "     Voltages  Currents  Temperatures  Charge Currents  Charge Voltages  \\\n",
       "0    4.189773  0.000021     24.697752          -0.0006            0.000   \n",
       "1    4.188881 -0.000879     24.685948          -0.0006            4.204   \n",
       "2    3.979157 -2.014654     24.738132          -1.9984            3.056   \n",
       "3    3.956924 -2.013703     24.897071          -1.9982            3.024   \n",
       "4    3.940054 -2.012797     25.084750          -1.9984            3.003   \n",
       "..        ...       ...           ...              ...              ...   \n",
       "172  3.127951 -2.011634     37.886988          -1.9982            2.221   \n",
       "173  3.083314 -2.010339     38.020076          -1.9982            2.180   \n",
       "174  3.030431 -2.011630     38.179273          -1.9982            2.133   \n",
       "175  2.965202 -2.012772     38.345628          -1.9982            2.075   \n",
       "176  2.878291 -2.013967     38.523283          -1.9982            2.003   \n",
       "\n",
       "     Time step  Capacity       SOH  \n",
       "0        0.000  1.846327  0.923164  \n",
       "1       16.672  1.846327  0.923164  \n",
       "2       35.703  1.846327  0.923164  \n",
       "3       53.828  1.846327  0.923164  \n",
       "4       71.891  1.846327  0.923164  \n",
       "..         ...       ...       ...  \n",
       "172   3210.703  1.846327  0.923164  \n",
       "173   3230.375  1.846327  0.923164  \n",
       "174   3250.032  1.846327  0.923164  \n",
       "175   3269.688  1.846327  0.923164  \n",
       "176   3289.532  1.846327  0.923164  \n",
       "\n",
       "[177 rows x 8 columns]"
      ]
     },
     "execution_count": 46,
     "metadata": {},
     "output_type": "execute_result"
    }
   ],
   "source": [
    "loc = \"Nasa Battery Data\\Battery 5\\Discharge cycle\\Headers\\B0005 cycle 4 data with headers.csv\"\n",
    "data = pd.read_csv(loc)\n",
    "cycle1 = pd.DataFrame(data)\n",
    "cycle1\n",
    "#Issue is, thats actually only one example"
   ]
  },
  {
   "cell_type": "code",
   "execution_count": 40,
   "metadata": {},
   "outputs": [
    {
     "data": {
      "text/plain": [
       "0      4.191492\n",
       "1      4.190749\n",
       "2      3.974871\n",
       "3      3.951717\n",
       "4      3.934353\n",
       "         ...   \n",
       "173    3.109331\n",
       "174    3.065382\n",
       "175    3.013061\n",
       "176    2.949206\n",
       "177    2.866018\n",
       "Name: Voltages, Length: 178, dtype: float64"
      ]
     },
     "execution_count": 40,
     "metadata": {},
     "output_type": "execute_result"
    }
   ],
   "source": [
    "cycle1[\"Voltages\"]"
   ]
  },
  {
   "cell_type": "code",
   "execution_count": null,
   "metadata": {},
   "outputs": [],
   "source": [
    "#Converting pandas data frame to an array, and adding the cycle number\n",
    "#wowee that was alot of work\n",
    "rows = len(cycle1)\n",
    "arraycycle1 = cycle1.values\n",
    "cycleListold = np.asarray([2]*rows)\n",
    "cycleList = np.reshape(cycleListold,(rows, 1))\n",
    "addition = np.full((rows,1),cycleList)\n",
    "newarraycycle1 = np.append(arraycycle1, addition, axis=1)\n",
    "print(newarraycycle1)"
   ]
  },
  {
   "cell_type": "code",
   "execution_count": 41,
   "metadata": {},
   "outputs": [
    {
     "name": "stdout",
     "output_type": "stream",
     "text": [
      "file count: 172\n"
     ]
    }
   ],
   "source": [
    "count = 0\n",
    "for root_dir, cur_dir, files in os.walk(r'Nasa Battery Data\\Battery 5\\Discharge Cycle\\Headers'):\n",
    "    count += len(files)\n",
    "print('file count:', count)\n"
   ]
  },
  {
   "cell_type": "code",
   "execution_count": 62,
   "metadata": {},
   "outputs": [],
   "source": [
    "items = os.listdir('Nasa Battery Data\\Battery 5\\Discharge Cycle\\Headers')\n",
    "#it wont import in order bc github is a dink\n",
    "# at least that has all the items\n",
    "#now lets order it incase that matters\n",
    "numCycles = 0\n",
    "count = 0\n",
    "while count < 614: #find a way to automatically assign the limit later\n",
    "    for fileName in os.listdir('Nasa Battery Data\\Battery 5\\Discharge Cycle\\Headers'):\n",
    "\n",
    "        #Increase counter until we've hit a cycle number that is in this folder\n",
    "        #That means it is a discharge cycle\n",
    "        cstring = str(count)\n",
    "        #Create filePath variable to this file that we want to extract data from\n",
    "        filePath = \"B0005 cycle \" + cstring+ \" data with headers.csv\"\n",
    "        \n",
    "\n",
    "        if fnmatch.fnmatch(fileName, filePath):\n",
    "            numCycles +=1\n",
    "    count +=1\n",
    "\n",
    "#Creating the model input array which is based on the number of cycles \n",
    "\n",
    "#Starting with the first cycle so that things are intilized, after that I'll be appending\n",
    "filePath = \"Nasa Battery Data\\Battery 5\\Discharge cycle\\Headers\\B0005 cycle 2 data with headers.csv\"\n",
    "data = pd.read_csv(filePath)\n",
    "fullcycle = pd.DataFrame(data)\n",
    "\n",
    "#Grabbing just the voltage data in one data frame \n",
    "#Grabbing the capacity data into another data frame\n",
    "cycle = fullcycle[[\"Voltages\"]]\n",
    "output = fullcycle[[\"Capacity\"]]\n",
    "\n",
    "\n",
    "rows = len(cycle)#Grab the number of rows in the data frame\n",
    "arraycycle = cycle.values #Convert data frame to array\n",
    "#cycleListold = np.asarray([2]*rows) #Using the number of cycles, create an array containing the cycle number of this file\n",
    "#cycleList = np.reshape(cycleListold,(rows, 1)) # Reshape so the program stops throwing errors\n",
    "#addition = np.full((rows,1),cycleList)#do it again because it was still mad at me\n",
    "#newarraycycle = np.append(arraycycle, addition, axis=1)#Add the cycle number to the data array\n",
    "\n",
    "#allInput = newarraycycle\n",
    "listCycle = cycle.values.tolist()\n",
    "listOutput = output.values.tolist()\n",
    "\n",
    "allInput = [[listCycle]]\n",
    "allOutput = [[listOutput]]\n",
    "\n",
    "\n",
    "numCycles = 1 # I'm differentiating between the data set cycle number and the number of discharge cycles.\n",
    "#I'm not sure if it matters but I'm doing it\n",
    "count = 3\n",
    "while count < 614: #find a way to automatically assign the limit later\n",
    "    for fileName in os.listdir('Nasa Battery Data\\Battery 5\\Discharge Cycle\\Headers'):\n",
    "\n",
    "        #Increase counter until we've hit a cycle number that is in this folder\n",
    "        #That means it is a discharge cycle\n",
    "        cstring = str(count)\n",
    "        #Create filePath variable to this file that we want to extract data from\n",
    "        filePath = 'B0005 cycle ' + cstring+ ' data with headers.csv'\n",
    "        \n",
    "\n",
    "        if fnmatch.fnmatch(fileName, filePath):\n",
    "\n",
    "            filePathFull = 'Nasa Battery Data\\Battery 5\\Discharge Cycle\\Headers\\B0005 cycle ' + cstring+ ' data with headers.csv'\n",
    "\n",
    "            #Pull the data from the file into a data frame\n",
    "            data = pd.read_csv(filePathFull)\n",
    "            fullcycle = pd.DataFrame(data)\n",
    "\n",
    "            #Grabbing just the voltage data in one data frame \n",
    "            #Grabbing the capacity data into another data frame\n",
    "            cycle = fullcycle[[\"Voltages\"]]\n",
    "            output = fullcycle[[\"Capacity\"]]\n",
    "\n",
    "            \n",
    "            #rows = len(cycle)#Grab the number of rows in the data frame\n",
    "            #arraycycle = cycle.values #Convert data frame to array\n",
    "            #cycleListold = np.asarray([numCycles]*rows) #Using the number of cycles, create an array containing the cycle number of this file\n",
    "            #cycleList = np.reshape(cycleListold,(rows, 1)) # Reshape so the program stops throwing errors\n",
    "            #addition = np.full((rows,1),cycleList)#do it again because it was still mad at me\n",
    "            #newarraycycle = np.append(arraycycle, addition, axis=1)#Add the cycle number to the data array\n",
    "            listCycle = cycle.values.tolist()\n",
    "            listOutput = output.values.tolist()\n",
    "\n",
    "            allInput.append([listCycle])\n",
    "            allOutput.append([listOutput])\n",
    "\n",
    "\n",
    "\n",
    "\n",
    "\n",
    "\n",
    "            numCycles +=1\n",
    "            #Now this individual cycle needs to be added to the larger data array\n",
    "            #But the data needs to be nested correctly \n",
    "            #This won't be the version that goes to the model bc we need the resampled equal length stuff, but yeah'\"Nasa Battery Data\"\n",
    "\n",
    "\n",
    "            #Loading all voltage data into the input array\n",
    "            #And all the capacity data into the output array\n",
    "\n",
    "            #allInput = np.append(allInput,arraycycle, axis=0) # This isn't the right shape anyway\n",
    "\n",
    "            #I think I need to switch to tensors so I can properly nest this pad boy\n",
    "\n",
    "\n",
    "\n",
    "\n",
    "    count += 1\n",
    "    #oh fuck yeah I did it\n",
    "\n",
    "#Well, it all needs to write to the same array/ data frame anyway\n"
   ]
  },
  {
   "cell_type": "code",
   "execution_count": 64,
   "metadata": {},
   "outputs": [
    {
     "ename": "AttributeError",
     "evalue": "'list' object has no attribute 'shape'",
     "output_type": "error",
     "traceback": [
      "\u001b[1;31m---------------------------------------------------------------------------\u001b[0m",
      "\u001b[1;31mAttributeError\u001b[0m                            Traceback (most recent call last)",
      "Cell \u001b[1;32mIn [64], line 1\u001b[0m\n\u001b[1;32m----> 1\u001b[0m \u001b[39mprint\u001b[39m(allInput\u001b[39m.\u001b[39;49mshape)\n",
      "\u001b[1;31mAttributeError\u001b[0m: 'list' object has no attribute 'shape'"
     ]
    }
   ],
   "source": [
    "print(allInput.s)"
   ]
  }
 ],
 "metadata": {
  "kernelspec": {
   "display_name": "Python 3.10.8 64-bit (microsoft store)",
   "language": "python",
   "name": "python3"
  },
  "language_info": {
   "codemirror_mode": {
    "name": "ipython",
    "version": 3
   },
   "file_extension": ".py",
   "mimetype": "text/x-python",
   "name": "python",
   "nbconvert_exporter": "python",
   "pygments_lexer": "ipython3",
   "version": "3.10.8"
  },
  "orig_nbformat": 4,
  "vscode": {
   "interpreter": {
    "hash": "9955c4e35847634d973329bf445c8e90329a92ad370b10f6eeb5c7b011ef9473"
   }
  }
 },
 "nbformat": 4,
 "nbformat_minor": 2
}
