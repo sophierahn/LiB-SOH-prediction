{
 "cells": [
  {
   "cell_type": "markdown",
   "metadata": {},
   "source": [
    "0.0 Import Packages"
   ]
  },
  {
   "cell_type": "code",
   "execution_count": 22,
   "metadata": {},
   "outputs": [],
   "source": [
    "import numpy as np\n",
    "import pandas as pd\n",
    "import matplotlib.pyplot as plt\n",
    "import torch as T\n",
    "import os\n",
    "import glob\n",
    "import seaborn as sns\n",
    "import fnmatch"
   ]
  },
  {
   "cell_type": "markdown",
   "metadata": {},
   "source": [
    "1.0 Load in Data"
   ]
  },
  {
   "cell_type": "code",
   "execution_count": 12,
   "metadata": {},
   "outputs": [
    {
     "data": {
      "text/html": [
       "<div>\n",
       "<style scoped>\n",
       "    .dataframe tbody tr th:only-of-type {\n",
       "        vertical-align: middle;\n",
       "    }\n",
       "\n",
       "    .dataframe tbody tr th {\n",
       "        vertical-align: top;\n",
       "    }\n",
       "\n",
       "    .dataframe thead th {\n",
       "        text-align: right;\n",
       "    }\n",
       "</style>\n",
       "<table border=\"1\" class=\"dataframe\">\n",
       "  <thead>\n",
       "    <tr style=\"text-align: right;\">\n",
       "      <th></th>\n",
       "      <th>Voltages</th>\n",
       "      <th>Currents</th>\n",
       "      <th>Temperatures</th>\n",
       "      <th>Charge Currents</th>\n",
       "      <th>Charge Voltages</th>\n",
       "      <th>Time step</th>\n",
       "      <th>Capacity</th>\n",
       "      <th>SOH</th>\n",
       "    </tr>\n",
       "  </thead>\n",
       "  <tbody>\n",
       "    <tr>\n",
       "      <th>0</th>\n",
       "      <td>4.191492</td>\n",
       "      <td>-0.004902</td>\n",
       "      <td>24.330034</td>\n",
       "      <td>-0.0006</td>\n",
       "      <td>0.000</td>\n",
       "      <td>0.000</td>\n",
       "      <td>1.856487</td>\n",
       "      <td>0.928244</td>\n",
       "    </tr>\n",
       "    <tr>\n",
       "      <th>1</th>\n",
       "      <td>4.190749</td>\n",
       "      <td>-0.001478</td>\n",
       "      <td>24.325993</td>\n",
       "      <td>-0.0006</td>\n",
       "      <td>4.206</td>\n",
       "      <td>16.781</td>\n",
       "      <td>1.856487</td>\n",
       "      <td>0.928244</td>\n",
       "    </tr>\n",
       "    <tr>\n",
       "      <th>2</th>\n",
       "      <td>3.974871</td>\n",
       "      <td>-2.012528</td>\n",
       "      <td>24.389085</td>\n",
       "      <td>-1.9982</td>\n",
       "      <td>3.062</td>\n",
       "      <td>35.703</td>\n",
       "      <td>1.856487</td>\n",
       "      <td>0.928244</td>\n",
       "    </tr>\n",
       "    <tr>\n",
       "      <th>3</th>\n",
       "      <td>3.951717</td>\n",
       "      <td>-2.013979</td>\n",
       "      <td>24.544752</td>\n",
       "      <td>-1.9982</td>\n",
       "      <td>3.030</td>\n",
       "      <td>53.781</td>\n",
       "      <td>1.856487</td>\n",
       "      <td>0.928244</td>\n",
       "    </tr>\n",
       "    <tr>\n",
       "      <th>4</th>\n",
       "      <td>3.934353</td>\n",
       "      <td>-2.011144</td>\n",
       "      <td>24.731385</td>\n",
       "      <td>-1.9982</td>\n",
       "      <td>3.011</td>\n",
       "      <td>71.922</td>\n",
       "      <td>1.856487</td>\n",
       "      <td>0.928244</td>\n",
       "    </tr>\n",
       "    <tr>\n",
       "      <th>...</th>\n",
       "      <td>...</td>\n",
       "      <td>...</td>\n",
       "      <td>...</td>\n",
       "      <td>...</td>\n",
       "      <td>...</td>\n",
       "      <td>...</td>\n",
       "      <td>...</td>\n",
       "      <td>...</td>\n",
       "    </tr>\n",
       "    <tr>\n",
       "      <th>173</th>\n",
       "      <td>3.109331</td>\n",
       "      <td>-2.013396</td>\n",
       "      <td>37.840427</td>\n",
       "      <td>-1.9984</td>\n",
       "      <td>2.213</td>\n",
       "      <td>3229.016</td>\n",
       "      <td>1.856487</td>\n",
       "      <td>0.928244</td>\n",
       "    </tr>\n",
       "    <tr>\n",
       "      <th>174</th>\n",
       "      <td>3.065382</td>\n",
       "      <td>-2.014808</td>\n",
       "      <td>37.982525</td>\n",
       "      <td>-1.9982</td>\n",
       "      <td>2.173</td>\n",
       "      <td>3248.625</td>\n",
       "      <td>1.856487</td>\n",
       "      <td>0.928244</td>\n",
       "    </tr>\n",
       "    <tr>\n",
       "      <th>175</th>\n",
       "      <td>3.013061</td>\n",
       "      <td>-2.011095</td>\n",
       "      <td>38.133255</td>\n",
       "      <td>-1.9982</td>\n",
       "      <td>2.125</td>\n",
       "      <td>3268.328</td>\n",
       "      <td>1.856487</td>\n",
       "      <td>0.928244</td>\n",
       "    </tr>\n",
       "    <tr>\n",
       "      <th>176</th>\n",
       "      <td>2.949206</td>\n",
       "      <td>-2.014217</td>\n",
       "      <td>38.303031</td>\n",
       "      <td>-1.9982</td>\n",
       "      <td>2.068</td>\n",
       "      <td>3287.969</td>\n",
       "      <td>1.856487</td>\n",
       "      <td>0.928244</td>\n",
       "    </tr>\n",
       "    <tr>\n",
       "      <th>177</th>\n",
       "      <td>2.866018</td>\n",
       "      <td>-2.010609</td>\n",
       "      <td>38.476446</td>\n",
       "      <td>-1.9982</td>\n",
       "      <td>1.998</td>\n",
       "      <td>3307.625</td>\n",
       "      <td>1.856487</td>\n",
       "      <td>0.928244</td>\n",
       "    </tr>\n",
       "  </tbody>\n",
       "</table>\n",
       "<p>178 rows × 8 columns</p>\n",
       "</div>"
      ],
      "text/plain": [
       "     Voltages  Currents  Temperatures  Charge Currents  Charge Voltages  \\\n",
       "0    4.191492 -0.004902     24.330034          -0.0006            0.000   \n",
       "1    4.190749 -0.001478     24.325993          -0.0006            4.206   \n",
       "2    3.974871 -2.012528     24.389085          -1.9982            3.062   \n",
       "3    3.951717 -2.013979     24.544752          -1.9982            3.030   \n",
       "4    3.934353 -2.011144     24.731385          -1.9982            3.011   \n",
       "..        ...       ...           ...              ...              ...   \n",
       "173  3.109331 -2.013396     37.840427          -1.9984            2.213   \n",
       "174  3.065382 -2.014808     37.982525          -1.9982            2.173   \n",
       "175  3.013061 -2.011095     38.133255          -1.9982            2.125   \n",
       "176  2.949206 -2.014217     38.303031          -1.9982            2.068   \n",
       "177  2.866018 -2.010609     38.476446          -1.9982            1.998   \n",
       "\n",
       "     Time step  Capacity       SOH  \n",
       "0        0.000  1.856487  0.928244  \n",
       "1       16.781  1.856487  0.928244  \n",
       "2       35.703  1.856487  0.928244  \n",
       "3       53.781  1.856487  0.928244  \n",
       "4       71.922  1.856487  0.928244  \n",
       "..         ...       ...       ...  \n",
       "173   3229.016  1.856487  0.928244  \n",
       "174   3248.625  1.856487  0.928244  \n",
       "175   3268.328  1.856487  0.928244  \n",
       "176   3287.969  1.856487  0.928244  \n",
       "177   3307.625  1.856487  0.928244  \n",
       "\n",
       "[178 rows x 8 columns]"
      ]
     },
     "execution_count": 12,
     "metadata": {},
     "output_type": "execute_result"
    }
   ],
   "source": [
    "loc = \"Nasa Battery Data\\Battery 5\\Discharge cycle\\Headers\\B0005 cycle 2 data with headers.csv\"\n",
    "data = pd.read_csv(loc)\n",
    "cycle1 = pd.DataFrame(data)\n",
    "cycle1\n",
    "#Issue is, thats actually only one example"
   ]
  },
  {
   "cell_type": "code",
   "execution_count": 15,
   "metadata": {},
   "outputs": [
    {
     "name": "stdout",
     "output_type": "stream",
     "text": [
      "file count: 156\n"
     ]
    }
   ],
   "source": [
    "count = 0\n",
    "for root_dir, cur_dir, files in os.walk(r'Nasa Battery Data\\Battery 5\\Discharge Cycle\\Headers'):\n",
    "    count += len(files)\n",
    "print('file count:', count)\n"
   ]
  },
  {
   "cell_type": "code",
   "execution_count": 24,
   "metadata": {},
   "outputs": [
    {
     "name": "stdout",
     "output_type": "stream",
     "text": [
      "B0005 cycle 102 data with headers.csv\n"
     ]
    },
    {
     "ename": "TypeError",
     "evalue": "expected str, bytes or os.PathLike object, not int",
     "output_type": "error",
     "traceback": [
      "\u001b[1;31m---------------------------------------------------------------------------\u001b[0m",
      "\u001b[1;31mTypeError\u001b[0m                                 Traceback (most recent call last)",
      "Cell \u001b[1;32mIn [24], line 13\u001b[0m\n\u001b[0;32m     10\u001b[0m \u001b[39mfor\u001b[39;00m file \u001b[39min\u001b[39;00m os\u001b[39m.\u001b[39mlistdir(\u001b[39m'\u001b[39m\u001b[39mNasa Battery Data\u001b[39m\u001b[39m\\\u001b[39m\u001b[39mBattery 5\u001b[39m\u001b[39m\\\u001b[39m\u001b[39mDischarge Cycle\u001b[39m\u001b[39m\\\u001b[39m\u001b[39mHeaders\u001b[39m\u001b[39m'\u001b[39m):\n\u001b[0;32m     11\u001b[0m     string \u001b[39m=\u001b[39m \u001b[39mstr\u001b[39m(count)\n\u001b[1;32m---> 13\u001b[0m     \u001b[39mif\u001b[39;00m fnmatch\u001b[39m.\u001b[39;49mfnmatch(file, count):\n\u001b[0;32m     14\u001b[0m         \u001b[39mprint\u001b[39m(file)\n\u001b[0;32m     15\u001b[0m count \u001b[39m+\u001b[39m\u001b[39m=\u001b[39m \u001b[39m1\u001b[39m\n",
      "File \u001b[1;32mC:\\Program Files\\WindowsApps\\PythonSoftwareFoundation.Python.3.10_3.10.2288.0_x64__qbz5n2kfra8p0\\lib\\fnmatch.py:41\u001b[0m, in \u001b[0;36mfnmatch\u001b[1;34m(name, pat)\u001b[0m\n\u001b[0;32m     26\u001b[0m \u001b[39m\"\"\"Test whether FILENAME matches PATTERN.\u001b[39;00m\n\u001b[0;32m     27\u001b[0m \n\u001b[0;32m     28\u001b[0m \u001b[39mPatterns are Unix shell style:\u001b[39;00m\n\u001b[1;32m   (...)\u001b[0m\n\u001b[0;32m     38\u001b[0m \u001b[39mIf you don't want this, use fnmatchcase(FILENAME, PATTERN).\u001b[39;00m\n\u001b[0;32m     39\u001b[0m \u001b[39m\"\"\"\u001b[39;00m\n\u001b[0;32m     40\u001b[0m name \u001b[39m=\u001b[39m os\u001b[39m.\u001b[39mpath\u001b[39m.\u001b[39mnormcase(name)\n\u001b[1;32m---> 41\u001b[0m pat \u001b[39m=\u001b[39m os\u001b[39m.\u001b[39;49mpath\u001b[39m.\u001b[39;49mnormcase(pat)\n\u001b[0;32m     42\u001b[0m \u001b[39mreturn\u001b[39;00m fnmatchcase(name, pat)\n",
      "File \u001b[1;32mC:\\Program Files\\WindowsApps\\PythonSoftwareFoundation.Python.3.10_3.10.2288.0_x64__qbz5n2kfra8p0\\lib\\ntpath.py:56\u001b[0m, in \u001b[0;36mnormcase\u001b[1;34m(s)\u001b[0m\n\u001b[0;32m     51\u001b[0m \u001b[39mdef\u001b[39;00m \u001b[39mnormcase\u001b[39m(s):\n\u001b[0;32m     52\u001b[0m     \u001b[39m\"\"\"Normalize case of pathname.\u001b[39;00m\n\u001b[0;32m     53\u001b[0m \n\u001b[0;32m     54\u001b[0m \u001b[39m    Makes all characters lowercase and all slashes into backslashes.\u001b[39;00m\n\u001b[0;32m     55\u001b[0m \u001b[39m    \"\"\"\u001b[39;00m\n\u001b[1;32m---> 56\u001b[0m     s \u001b[39m=\u001b[39m os\u001b[39m.\u001b[39;49mfspath(s)\n\u001b[0;32m     57\u001b[0m     \u001b[39mif\u001b[39;00m \u001b[39mnot\u001b[39;00m s:\n\u001b[0;32m     58\u001b[0m         \u001b[39mreturn\u001b[39;00m s\n",
      "\u001b[1;31mTypeError\u001b[0m: expected str, bytes or os.PathLike object, not int"
     ]
    }
   ],
   "source": [
    "items = os.listdir('Nasa Battery Data\\Battery 5\\Discharge Cycle\\Headers')\n",
    "print(items[1])\n",
    "#it wont import in order bc github is a dink\n",
    "# at least that has all the items\n",
    "#now lets order it incase that matters\n",
    "\n",
    "\n",
    "count = 0\n",
    "while count < 614: #find a way to automatically assign the limit later\n",
    "    for file in os.listdir('Nasa Battery Data\\Battery 5\\Discharge Cycle\\Headers'):\n",
    "        string = str(count)\n",
    "\n",
    "        if fnmatch.fnmatch(file, count):\n",
    "            print(file)\n",
    "    count += 1\n",
    "    print(count)"
   ]
  }
 ],
 "metadata": {
  "kernelspec": {
   "display_name": "Python 3.10.8 64-bit (microsoft store)",
   "language": "python",
   "name": "python3"
  },
  "language_info": {
   "codemirror_mode": {
    "name": "ipython",
    "version": 3
   },
   "file_extension": ".py",
   "mimetype": "text/x-python",
   "name": "python",
   "nbconvert_exporter": "python",
   "pygments_lexer": "ipython3",
   "version": "3.10.8"
  },
  "orig_nbformat": 4,
  "vscode": {
   "interpreter": {
    "hash": "9955c4e35847634d973329bf445c8e90329a92ad370b10f6eeb5c7b011ef9473"
   }
  }
 },
 "nbformat": 4,
 "nbformat_minor": 2
}
